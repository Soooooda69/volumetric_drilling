{
 "cells": [
  {
   "cell_type": "code",
   "execution_count": 2,
   "metadata": {},
   "outputs": [],
   "source": [
    "import math\n",
    "from argparse import ArgumentParser\n",
    "import numpy as np\n",
    "import ruamel.yaml\n",
    "\n",
    "yaml = ruamel.yaml.YAML()\n",
    "yaml.boolean_representation = [u'false', u'true']"
   ]
  },
  {
   "cell_type": "code",
   "execution_count": 10,
   "metadata": {},
   "outputs": [
    {
     "name": "stdout",
     "output_type": "stream",
     "text": [
      "640 360\n",
      "[[1.44665466e+03 0.00000000e+00 9.36044556e+02]\n",
      " [0.00000000e+00 1.44665466e+03 5.11092041e+02]\n",
      " [0.00000000e+00 0.00000000e+00 1.00000000e+00]]\n",
      "[[ 1.50693194  0.          0.04166667  0.        ]\n",
      " [ 0.          2.67899012 -0.05353326  0.        ]\n",
      " [ 0.          0.         -1.00040008 -0.00360043]\n",
      " [ 0.          0.         -1.          0.        ]]\n"
     ]
    }
   ],
   "source": [
    "word_adf = '../ADF/world/world.yaml'\n",
    "with open(word_adf, 'r') as f:\n",
    "        params = yaml.load(f)\n",
    "        f.close()\n",
    "camera = params['main_camera']\n",
    "\n",
    "near = camera['clipping plane']['near']\n",
    "far = camera['clipping plane']['far']\n",
    "width = camera['publish image resolution']['width']\n",
    "height = camera['publish image resolution']['height']\n",
    "print(width,height)\n",
    "\n",
    "# camera intrinsic matrix\n",
    "K = np.load('/home/shc/Twin-S/params/zed_M_l.npy')\n",
    "print(K)\n",
    "# K[0, 2] = 960\n",
    "# K[0, 2] = 920\n",
    "K = K/3\n",
    "\n",
    "depth = far - near\n",
    "p_M = np.zeros([4,4])\n",
    "p_M[0, 0] = 2*K[0,0]/width\n",
    "p_M[0, 2] = (width - 2*K[0,2])/width\n",
    "p_M[1, 1] = 2*K[1,1]/height\n",
    "p_M[1, 2] = (-height + 2*K[1,2])/height\n",
    "p_M[2, 2] = (-far - near)/depth\n",
    "p_M[2, 3] = -2*(far*near)/depth\n",
    "p_M[3, 2] = -1\n",
    "\n",
    "print(p_M)"
   ]
  }
 ],
 "metadata": {
  "kernelspec": {
   "display_name": "Python 3",
   "language": "python",
   "name": "python3"
  },
  "language_info": {
   "codemirror_mode": {
    "name": "ipython",
    "version": 3
   },
   "file_extension": ".py",
   "mimetype": "text/x-python",
   "name": "python",
   "nbconvert_exporter": "python",
   "pygments_lexer": "ipython3",
   "version": "3.8.10"
  },
  "orig_nbformat": 4
 },
 "nbformat": 4,
 "nbformat_minor": 2
}
